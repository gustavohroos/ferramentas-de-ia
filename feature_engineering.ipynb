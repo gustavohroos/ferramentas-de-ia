{
  "nbformat": 4,
  "nbformat_minor": 0,
  "metadata": {
    "colab": {
      "provenance": [],
      "include_colab_link": true
    },
    "kernelspec": {
      "name": "python3",
      "display_name": "Python 3"
    },
    "language_info": {
      "name": "python"
    }
  },
  "cells": [
    {
      "cell_type": "markdown",
      "metadata": {
        "id": "view-in-github",
        "colab_type": "text"
      },
      "source": [
        "<a href=\"https://colab.research.google.com/github/gustavohroos/ferramentas-de-ia/blob/main/feature_engineering.ipynb\" target=\"_parent\"><img src=\"https://colab.research.google.com/assets/colab-badge.svg\" alt=\"Open In Colab\"/></a>"
      ]
    },
    {
      "cell_type": "markdown",
      "source": [
        "# Feature Engineering with Sklearn - Descrição da Tarefa\n",
        "\n",
        "\n",
        "Baixe os três conjuntos de dados. Cada um deles possui características de atributos distintas. Utilizando técnicas de engenharia de atributos com sklearn (ou outra ferramenta), selecione a menor quantidade de atributos possível em cada um deles, mas sem remover atributos significativos."
      ],
      "metadata": {
        "id": "v-wtnYmzWS3M"
      }
    },
    {
      "cell_type": "markdown",
      "source": [
        "## Download Datasets"
      ],
      "metadata": {
        "id": "YsOH5j5Tv-eq"
      }
    },
    {
      "cell_type": "code",
      "source": [
        "!pip install gdown -qqq"
      ],
      "metadata": {
        "id": "aS1GWYZ9sBxS"
      },
      "execution_count": null,
      "outputs": []
    },
    {
      "cell_type": "code",
      "source": [
        "!gdown https://drive.google.com/uc?id=1q_VpqJ8O8JazQez-N6SYTBb51T4QrpMz\n",
        "!gdown https://drive.google.com/uc?id=1tFcc2B7UfIzy7q3P49EzVxgetdRnbxfc\n",
        "!gdown https://drive.google.com/uc?id=13fGg8YT844EN3xLgl5UzW1HOsOIbqYPo"
      ],
      "metadata": {
        "colab": {
          "base_uri": "https://localhost:8080/"
        },
        "id": "sqPQDrM4sJd4",
        "outputId": "34996ca4-e7f5-475d-81a8-8c27c4040297"
      },
      "execution_count": null,
      "outputs": [
        {
          "output_type": "stream",
          "name": "stdout",
          "text": [
            "Downloading...\n",
            "From: https://drive.google.com/uc?id=1q_VpqJ8O8JazQez-N6SYTBb51T4QrpMz\n",
            "To: /content/ia_fe_dataset1.csv\n",
            "100% 161k/161k [00:00<00:00, 54.6MB/s]\n",
            "Downloading...\n",
            "From: https://drive.google.com/uc?id=1tFcc2B7UfIzy7q3P49EzVxgetdRnbxfc\n",
            "To: /content/ia_fe_dataset2.csv\n",
            "100% 1.55M/1.55M [00:00<00:00, 87.9MB/s]\n",
            "Downloading...\n",
            "From: https://drive.google.com/uc?id=13fGg8YT844EN3xLgl5UzW1HOsOIbqYPo\n",
            "To: /content/ia_fe_dataset3.csv\n",
            "100% 3.08M/3.08M [00:00<00:00, 152MB/s]\n"
          ]
        }
      ]
    },
    {
      "cell_type": "code",
      "source": [
        "import pandas as pd\n",
        "df1 = pd.read_csv('/content/ia_fe_dataset1.csv')\n",
        "df2 = pd.read_csv('/content/ia_fe_dataset2.csv')\n",
        "df3 = pd.read_csv('/content/ia_fe_dataset3.csv')\n",
        "df1.head()"
      ],
      "metadata": {
        "colab": {
          "base_uri": "https://localhost:8080/",
          "height": 206
        },
        "id": "N3BbQZOOhqW7",
        "outputId": "7b755fe2-6267-4b2a-9470-6ec83f771f47"
      },
      "execution_count": null,
      "outputs": [
        {
          "output_type": "execute_result",
          "data": {
            "text/plain": [
              "   feature_1  feature_2  feature_3  feature_4  feature_5  target\n",
              "0  -0.092542  -1.585122  -1.585122  -0.186425  -0.909699       0\n",
              "1  -0.152189  -1.589585  -1.589585  -0.207747  -0.320193       1\n",
              "2  -2.862124  -2.941878  -2.941878  -1.288126   1.690396       1\n",
              "3   0.458934  -0.414691  -0.414691   0.120419   0.397453       0\n",
              "4   0.220629  -0.548184  -0.548184   0.023997  -0.287288       0"
            ],
            "text/html": [
              "\n",
              "  <div id=\"df-a2777f18-2c47-4f92-aa08-4447369b3a4f\" class=\"colab-df-container\">\n",
              "    <div>\n",
              "<style scoped>\n",
              "    .dataframe tbody tr th:only-of-type {\n",
              "        vertical-align: middle;\n",
              "    }\n",
              "\n",
              "    .dataframe tbody tr th {\n",
              "        vertical-align: top;\n",
              "    }\n",
              "\n",
              "    .dataframe thead th {\n",
              "        text-align: right;\n",
              "    }\n",
              "</style>\n",
              "<table border=\"1\" class=\"dataframe\">\n",
              "  <thead>\n",
              "    <tr style=\"text-align: right;\">\n",
              "      <th></th>\n",
              "      <th>feature_1</th>\n",
              "      <th>feature_2</th>\n",
              "      <th>feature_3</th>\n",
              "      <th>feature_4</th>\n",
              "      <th>feature_5</th>\n",
              "      <th>target</th>\n",
              "    </tr>\n",
              "  </thead>\n",
              "  <tbody>\n",
              "    <tr>\n",
              "      <th>0</th>\n",
              "      <td>-0.092542</td>\n",
              "      <td>-1.585122</td>\n",
              "      <td>-1.585122</td>\n",
              "      <td>-0.186425</td>\n",
              "      <td>-0.909699</td>\n",
              "      <td>0</td>\n",
              "    </tr>\n",
              "    <tr>\n",
              "      <th>1</th>\n",
              "      <td>-0.152189</td>\n",
              "      <td>-1.589585</td>\n",
              "      <td>-1.589585</td>\n",
              "      <td>-0.207747</td>\n",
              "      <td>-0.320193</td>\n",
              "      <td>1</td>\n",
              "    </tr>\n",
              "    <tr>\n",
              "      <th>2</th>\n",
              "      <td>-2.862124</td>\n",
              "      <td>-2.941878</td>\n",
              "      <td>-2.941878</td>\n",
              "      <td>-1.288126</td>\n",
              "      <td>1.690396</td>\n",
              "      <td>1</td>\n",
              "    </tr>\n",
              "    <tr>\n",
              "      <th>3</th>\n",
              "      <td>0.458934</td>\n",
              "      <td>-0.414691</td>\n",
              "      <td>-0.414691</td>\n",
              "      <td>0.120419</td>\n",
              "      <td>0.397453</td>\n",
              "      <td>0</td>\n",
              "    </tr>\n",
              "    <tr>\n",
              "      <th>4</th>\n",
              "      <td>0.220629</td>\n",
              "      <td>-0.548184</td>\n",
              "      <td>-0.548184</td>\n",
              "      <td>0.023997</td>\n",
              "      <td>-0.287288</td>\n",
              "      <td>0</td>\n",
              "    </tr>\n",
              "  </tbody>\n",
              "</table>\n",
              "</div>\n",
              "    <div class=\"colab-df-buttons\">\n",
              "\n",
              "  <div class=\"colab-df-container\">\n",
              "    <button class=\"colab-df-convert\" onclick=\"convertToInteractive('df-a2777f18-2c47-4f92-aa08-4447369b3a4f')\"\n",
              "            title=\"Convert this dataframe to an interactive table.\"\n",
              "            style=\"display:none;\">\n",
              "\n",
              "  <svg xmlns=\"http://www.w3.org/2000/svg\" height=\"24px\" viewBox=\"0 -960 960 960\">\n",
              "    <path d=\"M120-120v-720h720v720H120Zm60-500h600v-160H180v160Zm220 220h160v-160H400v160Zm0 220h160v-160H400v160ZM180-400h160v-160H180v160Zm440 0h160v-160H620v160ZM180-180h160v-160H180v160Zm440 0h160v-160H620v160Z\"/>\n",
              "  </svg>\n",
              "    </button>\n",
              "\n",
              "  <style>\n",
              "    .colab-df-container {\n",
              "      display:flex;\n",
              "      gap: 12px;\n",
              "    }\n",
              "\n",
              "    .colab-df-convert {\n",
              "      background-color: #E8F0FE;\n",
              "      border: none;\n",
              "      border-radius: 50%;\n",
              "      cursor: pointer;\n",
              "      display: none;\n",
              "      fill: #1967D2;\n",
              "      height: 32px;\n",
              "      padding: 0 0 0 0;\n",
              "      width: 32px;\n",
              "    }\n",
              "\n",
              "    .colab-df-convert:hover {\n",
              "      background-color: #E2EBFA;\n",
              "      box-shadow: 0px 1px 2px rgba(60, 64, 67, 0.3), 0px 1px 3px 1px rgba(60, 64, 67, 0.15);\n",
              "      fill: #174EA6;\n",
              "    }\n",
              "\n",
              "    .colab-df-buttons div {\n",
              "      margin-bottom: 4px;\n",
              "    }\n",
              "\n",
              "    [theme=dark] .colab-df-convert {\n",
              "      background-color: #3B4455;\n",
              "      fill: #D2E3FC;\n",
              "    }\n",
              "\n",
              "    [theme=dark] .colab-df-convert:hover {\n",
              "      background-color: #434B5C;\n",
              "      box-shadow: 0px 1px 3px 1px rgba(0, 0, 0, 0.15);\n",
              "      filter: drop-shadow(0px 1px 2px rgba(0, 0, 0, 0.3));\n",
              "      fill: #FFFFFF;\n",
              "    }\n",
              "  </style>\n",
              "\n",
              "    <script>\n",
              "      const buttonEl =\n",
              "        document.querySelector('#df-a2777f18-2c47-4f92-aa08-4447369b3a4f button.colab-df-convert');\n",
              "      buttonEl.style.display =\n",
              "        google.colab.kernel.accessAllowed ? 'block' : 'none';\n",
              "\n",
              "      async function convertToInteractive(key) {\n",
              "        const element = document.querySelector('#df-a2777f18-2c47-4f92-aa08-4447369b3a4f');\n",
              "        const dataTable =\n",
              "          await google.colab.kernel.invokeFunction('convertToInteractive',\n",
              "                                                    [key], {});\n",
              "        if (!dataTable) return;\n",
              "\n",
              "        const docLinkHtml = 'Like what you see? Visit the ' +\n",
              "          '<a target=\"_blank\" href=https://colab.research.google.com/notebooks/data_table.ipynb>data table notebook</a>'\n",
              "          + ' to learn more about interactive tables.';\n",
              "        element.innerHTML = '';\n",
              "        dataTable['output_type'] = 'display_data';\n",
              "        await google.colab.output.renderOutput(dataTable, element);\n",
              "        const docLink = document.createElement('div');\n",
              "        docLink.innerHTML = docLinkHtml;\n",
              "        element.appendChild(docLink);\n",
              "      }\n",
              "    </script>\n",
              "  </div>\n",
              "\n",
              "\n",
              "<div id=\"df-59b6a138-21de-45d6-8434-06ccce67f4d6\">\n",
              "  <button class=\"colab-df-quickchart\" onclick=\"quickchart('df-59b6a138-21de-45d6-8434-06ccce67f4d6')\"\n",
              "            title=\"Suggest charts\"\n",
              "            style=\"display:none;\">\n",
              "\n",
              "<svg xmlns=\"http://www.w3.org/2000/svg\" height=\"24px\"viewBox=\"0 0 24 24\"\n",
              "     width=\"24px\">\n",
              "    <g>\n",
              "        <path d=\"M19 3H5c-1.1 0-2 .9-2 2v14c0 1.1.9 2 2 2h14c1.1 0 2-.9 2-2V5c0-1.1-.9-2-2-2zM9 17H7v-7h2v7zm4 0h-2V7h2v10zm4 0h-2v-4h2v4z\"/>\n",
              "    </g>\n",
              "</svg>\n",
              "  </button>\n",
              "\n",
              "<style>\n",
              "  .colab-df-quickchart {\n",
              "      --bg-color: #E8F0FE;\n",
              "      --fill-color: #1967D2;\n",
              "      --hover-bg-color: #E2EBFA;\n",
              "      --hover-fill-color: #174EA6;\n",
              "      --disabled-fill-color: #AAA;\n",
              "      --disabled-bg-color: #DDD;\n",
              "  }\n",
              "\n",
              "  [theme=dark] .colab-df-quickchart {\n",
              "      --bg-color: #3B4455;\n",
              "      --fill-color: #D2E3FC;\n",
              "      --hover-bg-color: #434B5C;\n",
              "      --hover-fill-color: #FFFFFF;\n",
              "      --disabled-bg-color: #3B4455;\n",
              "      --disabled-fill-color: #666;\n",
              "  }\n",
              "\n",
              "  .colab-df-quickchart {\n",
              "    background-color: var(--bg-color);\n",
              "    border: none;\n",
              "    border-radius: 50%;\n",
              "    cursor: pointer;\n",
              "    display: none;\n",
              "    fill: var(--fill-color);\n",
              "    height: 32px;\n",
              "    padding: 0;\n",
              "    width: 32px;\n",
              "  }\n",
              "\n",
              "  .colab-df-quickchart:hover {\n",
              "    background-color: var(--hover-bg-color);\n",
              "    box-shadow: 0 1px 2px rgba(60, 64, 67, 0.3), 0 1px 3px 1px rgba(60, 64, 67, 0.15);\n",
              "    fill: var(--button-hover-fill-color);\n",
              "  }\n",
              "\n",
              "  .colab-df-quickchart-complete:disabled,\n",
              "  .colab-df-quickchart-complete:disabled:hover {\n",
              "    background-color: var(--disabled-bg-color);\n",
              "    fill: var(--disabled-fill-color);\n",
              "    box-shadow: none;\n",
              "  }\n",
              "\n",
              "  .colab-df-spinner {\n",
              "    border: 2px solid var(--fill-color);\n",
              "    border-color: transparent;\n",
              "    border-bottom-color: var(--fill-color);\n",
              "    animation:\n",
              "      spin 1s steps(1) infinite;\n",
              "  }\n",
              "\n",
              "  @keyframes spin {\n",
              "    0% {\n",
              "      border-color: transparent;\n",
              "      border-bottom-color: var(--fill-color);\n",
              "      border-left-color: var(--fill-color);\n",
              "    }\n",
              "    20% {\n",
              "      border-color: transparent;\n",
              "      border-left-color: var(--fill-color);\n",
              "      border-top-color: var(--fill-color);\n",
              "    }\n",
              "    30% {\n",
              "      border-color: transparent;\n",
              "      border-left-color: var(--fill-color);\n",
              "      border-top-color: var(--fill-color);\n",
              "      border-right-color: var(--fill-color);\n",
              "    }\n",
              "    40% {\n",
              "      border-color: transparent;\n",
              "      border-right-color: var(--fill-color);\n",
              "      border-top-color: var(--fill-color);\n",
              "    }\n",
              "    60% {\n",
              "      border-color: transparent;\n",
              "      border-right-color: var(--fill-color);\n",
              "    }\n",
              "    80% {\n",
              "      border-color: transparent;\n",
              "      border-right-color: var(--fill-color);\n",
              "      border-bottom-color: var(--fill-color);\n",
              "    }\n",
              "    90% {\n",
              "      border-color: transparent;\n",
              "      border-bottom-color: var(--fill-color);\n",
              "    }\n",
              "  }\n",
              "</style>\n",
              "\n",
              "  <script>\n",
              "    async function quickchart(key) {\n",
              "      const quickchartButtonEl =\n",
              "        document.querySelector('#' + key + ' button');\n",
              "      quickchartButtonEl.disabled = true;  // To prevent multiple clicks.\n",
              "      quickchartButtonEl.classList.add('colab-df-spinner');\n",
              "      try {\n",
              "        const charts = await google.colab.kernel.invokeFunction(\n",
              "            'suggestCharts', [key], {});\n",
              "      } catch (error) {\n",
              "        console.error('Error during call to suggestCharts:', error);\n",
              "      }\n",
              "      quickchartButtonEl.classList.remove('colab-df-spinner');\n",
              "      quickchartButtonEl.classList.add('colab-df-quickchart-complete');\n",
              "    }\n",
              "    (() => {\n",
              "      let quickchartButtonEl =\n",
              "        document.querySelector('#df-59b6a138-21de-45d6-8434-06ccce67f4d6 button');\n",
              "      quickchartButtonEl.style.display =\n",
              "        google.colab.kernel.accessAllowed ? 'block' : 'none';\n",
              "    })();\n",
              "  </script>\n",
              "</div>\n",
              "    </div>\n",
              "  </div>\n"
            ],
            "application/vnd.google.colaboratory.intrinsic+json": {
              "type": "dataframe",
              "variable_name": "df1",
              "summary": "{\n  \"name\": \"df1\",\n  \"rows\": 1600,\n  \"fields\": [\n    {\n      \"column\": \"feature_1\",\n      \"properties\": {\n        \"dtype\": \"number\",\n        \"std\": 1.5175727893485844,\n        \"min\": -4.514533512721946,\n        \"max\": 4.452542681703548,\n        \"num_unique_values\": 1600,\n        \"samples\": [\n          1.0852486875129168,\n          1.585843059235168,\n          1.0061229753686614\n        ],\n        \"semantic_type\": \"\",\n        \"description\": \"\"\n      }\n    },\n    {\n      \"column\": \"feature_2\",\n      \"properties\": {\n        \"dtype\": \"number\",\n        \"std\": 0.950819870963837,\n        \"min\": -4.398948289187548,\n        \"max\": 2.946474597776763,\n        \"num_unique_values\": 1600,\n        \"samples\": [\n          -0.0321292744632993,\n          -1.7510448627419897,\n          -0.525510989929787\n        ],\n        \"semantic_type\": \"\",\n        \"description\": \"\"\n      }\n    },\n    {\n      \"column\": \"feature_3\",\n      \"properties\": {\n        \"dtype\": \"number\",\n        \"std\": 0.950819870963837,\n        \"min\": -4.398948289187548,\n        \"max\": 2.946474597776763,\n        \"num_unique_values\": 1600,\n        \"samples\": [\n          -0.0321292744632993,\n          -1.7510448627419897,\n          -0.525510989929787\n        ],\n        \"semantic_type\": \"\",\n        \"description\": \"\"\n      }\n    },\n    {\n      \"column\": \"feature_4\",\n      \"properties\": {\n        \"dtype\": \"number\",\n        \"std\": 0.5474031076378634,\n        \"min\": -1.7540290929870088,\n        \"max\": 1.5301161134083154,\n        \"num_unique_values\": 1600,\n        \"samples\": [\n          0.3769180387570817,\n          0.3852012578141781,\n          0.3012698330095797\n        ],\n        \"semantic_type\": \"\",\n        \"description\": \"\"\n      }\n    },\n    {\n      \"column\": \"feature_5\",\n      \"properties\": {\n        \"dtype\": \"number\",\n        \"std\": 1.0240186376709823,\n        \"min\": -3.6673947053928817,\n        \"max\": 3.793347086805815,\n        \"num_unique_values\": 1600,\n        \"samples\": [\n          -1.7428453109422404,\n          0.7785139832224253,\n          0.1124971256249812\n        ],\n        \"semantic_type\": \"\",\n        \"description\": \"\"\n      }\n    },\n    {\n      \"column\": \"target\",\n      \"properties\": {\n        \"dtype\": \"number\",\n        \"std\": 0,\n        \"min\": 0,\n        \"max\": 1,\n        \"num_unique_values\": 2,\n        \"samples\": [\n          1,\n          0\n        ],\n        \"semantic_type\": \"\",\n        \"description\": \"\"\n      }\n    }\n  ]\n}"
            }
          },
          "metadata": {},
          "execution_count": 125
        }
      ]
    },
    {
      "cell_type": "markdown",
      "source": [
        "# Correlation Selection\n",
        "\n",
        "## Explanation: https://www.w3schools.com/python/pandas/pandas_correlations.asp\n",
        "## Reference Guide: https://pandas.pydata.org/docs/reference/api/pandas.DataFrame.corr.html\n",
        "## Source: https://github.com/pandas-dev/pandas/blob/v2.2.2/pandas/core/frame.py#L10975-L11087\n"
      ],
      "metadata": {
        "id": "c_Lr4XQsqMob"
      }
    },
    {
      "cell_type": "code",
      "source": [
        "import numpy as np\n",
        "import pandas as pd\n",
        "\n",
        "# documentation: https://pandas.pydata.org/docs/reference/api/pandas.DataFrame.corr.html\n",
        "# source https://github.com/pandas-dev/pandas/blob/v2.2.2/pandas/core/frame.py#L10975-L11087\n",
        "\n",
        "# pd.DataFrame([[1,2,3,4],[3,2,1,0],[7,6,5,4]]).corr()"
      ],
      "metadata": {
        "id": "osAC8p5MvWVC"
      },
      "execution_count": null,
      "outputs": []
    },
    {
      "cell_type": "code",
      "source": [
        "df1.corr()"
      ],
      "metadata": {
        "colab": {
          "base_uri": "https://localhost:8080/",
          "height": 238
        },
        "id": "ZlhvToOgh3cY",
        "outputId": "aafd16f6-1a67-4c7d-d886-6d5fb8142804"
      },
      "execution_count": null,
      "outputs": [
        {
          "output_type": "execute_result",
          "data": {
            "text/plain": [
              "           feature_1  feature_2  feature_3  feature_4  feature_5    target\n",
              "feature_1   1.000000   0.088525   0.088525   0.985768  -0.002907 -0.662452\n",
              "feature_2   0.088525   1.000000   1.000000   0.254715  -0.017930  0.012852\n",
              "feature_3   0.088525   1.000000   1.000000   0.254715  -0.017930  0.012852\n",
              "feature_4   0.985768   0.254715   0.254715   1.000000  -0.005849 -0.640958\n",
              "feature_5  -0.002907  -0.017930  -0.017930  -0.005849   1.000000  0.004133\n",
              "target     -0.662452   0.012852   0.012852  -0.640958   0.004133  1.000000"
            ],
            "text/html": [
              "\n",
              "  <div id=\"df-495d3e54-0534-4639-929b-ff59f8c56cf6\" class=\"colab-df-container\">\n",
              "    <div>\n",
              "<style scoped>\n",
              "    .dataframe tbody tr th:only-of-type {\n",
              "        vertical-align: middle;\n",
              "    }\n",
              "\n",
              "    .dataframe tbody tr th {\n",
              "        vertical-align: top;\n",
              "    }\n",
              "\n",
              "    .dataframe thead th {\n",
              "        text-align: right;\n",
              "    }\n",
              "</style>\n",
              "<table border=\"1\" class=\"dataframe\">\n",
              "  <thead>\n",
              "    <tr style=\"text-align: right;\">\n",
              "      <th></th>\n",
              "      <th>feature_1</th>\n",
              "      <th>feature_2</th>\n",
              "      <th>feature_3</th>\n",
              "      <th>feature_4</th>\n",
              "      <th>feature_5</th>\n",
              "      <th>target</th>\n",
              "    </tr>\n",
              "  </thead>\n",
              "  <tbody>\n",
              "    <tr>\n",
              "      <th>feature_1</th>\n",
              "      <td>1.000000</td>\n",
              "      <td>0.088525</td>\n",
              "      <td>0.088525</td>\n",
              "      <td>0.985768</td>\n",
              "      <td>-0.002907</td>\n",
              "      <td>-0.662452</td>\n",
              "    </tr>\n",
              "    <tr>\n",
              "      <th>feature_2</th>\n",
              "      <td>0.088525</td>\n",
              "      <td>1.000000</td>\n",
              "      <td>1.000000</td>\n",
              "      <td>0.254715</td>\n",
              "      <td>-0.017930</td>\n",
              "      <td>0.012852</td>\n",
              "    </tr>\n",
              "    <tr>\n",
              "      <th>feature_3</th>\n",
              "      <td>0.088525</td>\n",
              "      <td>1.000000</td>\n",
              "      <td>1.000000</td>\n",
              "      <td>0.254715</td>\n",
              "      <td>-0.017930</td>\n",
              "      <td>0.012852</td>\n",
              "    </tr>\n",
              "    <tr>\n",
              "      <th>feature_4</th>\n",
              "      <td>0.985768</td>\n",
              "      <td>0.254715</td>\n",
              "      <td>0.254715</td>\n",
              "      <td>1.000000</td>\n",
              "      <td>-0.005849</td>\n",
              "      <td>-0.640958</td>\n",
              "    </tr>\n",
              "    <tr>\n",
              "      <th>feature_5</th>\n",
              "      <td>-0.002907</td>\n",
              "      <td>-0.017930</td>\n",
              "      <td>-0.017930</td>\n",
              "      <td>-0.005849</td>\n",
              "      <td>1.000000</td>\n",
              "      <td>0.004133</td>\n",
              "    </tr>\n",
              "    <tr>\n",
              "      <th>target</th>\n",
              "      <td>-0.662452</td>\n",
              "      <td>0.012852</td>\n",
              "      <td>0.012852</td>\n",
              "      <td>-0.640958</td>\n",
              "      <td>0.004133</td>\n",
              "      <td>1.000000</td>\n",
              "    </tr>\n",
              "  </tbody>\n",
              "</table>\n",
              "</div>\n",
              "    <div class=\"colab-df-buttons\">\n",
              "\n",
              "  <div class=\"colab-df-container\">\n",
              "    <button class=\"colab-df-convert\" onclick=\"convertToInteractive('df-495d3e54-0534-4639-929b-ff59f8c56cf6')\"\n",
              "            title=\"Convert this dataframe to an interactive table.\"\n",
              "            style=\"display:none;\">\n",
              "\n",
              "  <svg xmlns=\"http://www.w3.org/2000/svg\" height=\"24px\" viewBox=\"0 -960 960 960\">\n",
              "    <path d=\"M120-120v-720h720v720H120Zm60-500h600v-160H180v160Zm220 220h160v-160H400v160Zm0 220h160v-160H400v160ZM180-400h160v-160H180v160Zm440 0h160v-160H620v160ZM180-180h160v-160H180v160Zm440 0h160v-160H620v160Z\"/>\n",
              "  </svg>\n",
              "    </button>\n",
              "\n",
              "  <style>\n",
              "    .colab-df-container {\n",
              "      display:flex;\n",
              "      gap: 12px;\n",
              "    }\n",
              "\n",
              "    .colab-df-convert {\n",
              "      background-color: #E8F0FE;\n",
              "      border: none;\n",
              "      border-radius: 50%;\n",
              "      cursor: pointer;\n",
              "      display: none;\n",
              "      fill: #1967D2;\n",
              "      height: 32px;\n",
              "      padding: 0 0 0 0;\n",
              "      width: 32px;\n",
              "    }\n",
              "\n",
              "    .colab-df-convert:hover {\n",
              "      background-color: #E2EBFA;\n",
              "      box-shadow: 0px 1px 2px rgba(60, 64, 67, 0.3), 0px 1px 3px 1px rgba(60, 64, 67, 0.15);\n",
              "      fill: #174EA6;\n",
              "    }\n",
              "\n",
              "    .colab-df-buttons div {\n",
              "      margin-bottom: 4px;\n",
              "    }\n",
              "\n",
              "    [theme=dark] .colab-df-convert {\n",
              "      background-color: #3B4455;\n",
              "      fill: #D2E3FC;\n",
              "    }\n",
              "\n",
              "    [theme=dark] .colab-df-convert:hover {\n",
              "      background-color: #434B5C;\n",
              "      box-shadow: 0px 1px 3px 1px rgba(0, 0, 0, 0.15);\n",
              "      filter: drop-shadow(0px 1px 2px rgba(0, 0, 0, 0.3));\n",
              "      fill: #FFFFFF;\n",
              "    }\n",
              "  </style>\n",
              "\n",
              "    <script>\n",
              "      const buttonEl =\n",
              "        document.querySelector('#df-495d3e54-0534-4639-929b-ff59f8c56cf6 button.colab-df-convert');\n",
              "      buttonEl.style.display =\n",
              "        google.colab.kernel.accessAllowed ? 'block' : 'none';\n",
              "\n",
              "      async function convertToInteractive(key) {\n",
              "        const element = document.querySelector('#df-495d3e54-0534-4639-929b-ff59f8c56cf6');\n",
              "        const dataTable =\n",
              "          await google.colab.kernel.invokeFunction('convertToInteractive',\n",
              "                                                    [key], {});\n",
              "        if (!dataTable) return;\n",
              "\n",
              "        const docLinkHtml = 'Like what you see? Visit the ' +\n",
              "          '<a target=\"_blank\" href=https://colab.research.google.com/notebooks/data_table.ipynb>data table notebook</a>'\n",
              "          + ' to learn more about interactive tables.';\n",
              "        element.innerHTML = '';\n",
              "        dataTable['output_type'] = 'display_data';\n",
              "        await google.colab.output.renderOutput(dataTable, element);\n",
              "        const docLink = document.createElement('div');\n",
              "        docLink.innerHTML = docLinkHtml;\n",
              "        element.appendChild(docLink);\n",
              "      }\n",
              "    </script>\n",
              "  </div>\n",
              "\n",
              "\n",
              "<div id=\"df-2edc5788-b5f7-4e0a-b6b0-57bd3f9f9c03\">\n",
              "  <button class=\"colab-df-quickchart\" onclick=\"quickchart('df-2edc5788-b5f7-4e0a-b6b0-57bd3f9f9c03')\"\n",
              "            title=\"Suggest charts\"\n",
              "            style=\"display:none;\">\n",
              "\n",
              "<svg xmlns=\"http://www.w3.org/2000/svg\" height=\"24px\"viewBox=\"0 0 24 24\"\n",
              "     width=\"24px\">\n",
              "    <g>\n",
              "        <path d=\"M19 3H5c-1.1 0-2 .9-2 2v14c0 1.1.9 2 2 2h14c1.1 0 2-.9 2-2V5c0-1.1-.9-2-2-2zM9 17H7v-7h2v7zm4 0h-2V7h2v10zm4 0h-2v-4h2v4z\"/>\n",
              "    </g>\n",
              "</svg>\n",
              "  </button>\n",
              "\n",
              "<style>\n",
              "  .colab-df-quickchart {\n",
              "      --bg-color: #E8F0FE;\n",
              "      --fill-color: #1967D2;\n",
              "      --hover-bg-color: #E2EBFA;\n",
              "      --hover-fill-color: #174EA6;\n",
              "      --disabled-fill-color: #AAA;\n",
              "      --disabled-bg-color: #DDD;\n",
              "  }\n",
              "\n",
              "  [theme=dark] .colab-df-quickchart {\n",
              "      --bg-color: #3B4455;\n",
              "      --fill-color: #D2E3FC;\n",
              "      --hover-bg-color: #434B5C;\n",
              "      --hover-fill-color: #FFFFFF;\n",
              "      --disabled-bg-color: #3B4455;\n",
              "      --disabled-fill-color: #666;\n",
              "  }\n",
              "\n",
              "  .colab-df-quickchart {\n",
              "    background-color: var(--bg-color);\n",
              "    border: none;\n",
              "    border-radius: 50%;\n",
              "    cursor: pointer;\n",
              "    display: none;\n",
              "    fill: var(--fill-color);\n",
              "    height: 32px;\n",
              "    padding: 0;\n",
              "    width: 32px;\n",
              "  }\n",
              "\n",
              "  .colab-df-quickchart:hover {\n",
              "    background-color: var(--hover-bg-color);\n",
              "    box-shadow: 0 1px 2px rgba(60, 64, 67, 0.3), 0 1px 3px 1px rgba(60, 64, 67, 0.15);\n",
              "    fill: var(--button-hover-fill-color);\n",
              "  }\n",
              "\n",
              "  .colab-df-quickchart-complete:disabled,\n",
              "  .colab-df-quickchart-complete:disabled:hover {\n",
              "    background-color: var(--disabled-bg-color);\n",
              "    fill: var(--disabled-fill-color);\n",
              "    box-shadow: none;\n",
              "  }\n",
              "\n",
              "  .colab-df-spinner {\n",
              "    border: 2px solid var(--fill-color);\n",
              "    border-color: transparent;\n",
              "    border-bottom-color: var(--fill-color);\n",
              "    animation:\n",
              "      spin 1s steps(1) infinite;\n",
              "  }\n",
              "\n",
              "  @keyframes spin {\n",
              "    0% {\n",
              "      border-color: transparent;\n",
              "      border-bottom-color: var(--fill-color);\n",
              "      border-left-color: var(--fill-color);\n",
              "    }\n",
              "    20% {\n",
              "      border-color: transparent;\n",
              "      border-left-color: var(--fill-color);\n",
              "      border-top-color: var(--fill-color);\n",
              "    }\n",
              "    30% {\n",
              "      border-color: transparent;\n",
              "      border-left-color: var(--fill-color);\n",
              "      border-top-color: var(--fill-color);\n",
              "      border-right-color: var(--fill-color);\n",
              "    }\n",
              "    40% {\n",
              "      border-color: transparent;\n",
              "      border-right-color: var(--fill-color);\n",
              "      border-top-color: var(--fill-color);\n",
              "    }\n",
              "    60% {\n",
              "      border-color: transparent;\n",
              "      border-right-color: var(--fill-color);\n",
              "    }\n",
              "    80% {\n",
              "      border-color: transparent;\n",
              "      border-right-color: var(--fill-color);\n",
              "      border-bottom-color: var(--fill-color);\n",
              "    }\n",
              "    90% {\n",
              "      border-color: transparent;\n",
              "      border-bottom-color: var(--fill-color);\n",
              "    }\n",
              "  }\n",
              "</style>\n",
              "\n",
              "  <script>\n",
              "    async function quickchart(key) {\n",
              "      const quickchartButtonEl =\n",
              "        document.querySelector('#' + key + ' button');\n",
              "      quickchartButtonEl.disabled = true;  // To prevent multiple clicks.\n",
              "      quickchartButtonEl.classList.add('colab-df-spinner');\n",
              "      try {\n",
              "        const charts = await google.colab.kernel.invokeFunction(\n",
              "            'suggestCharts', [key], {});\n",
              "      } catch (error) {\n",
              "        console.error('Error during call to suggestCharts:', error);\n",
              "      }\n",
              "      quickchartButtonEl.classList.remove('colab-df-spinner');\n",
              "      quickchartButtonEl.classList.add('colab-df-quickchart-complete');\n",
              "    }\n",
              "    (() => {\n",
              "      let quickchartButtonEl =\n",
              "        document.querySelector('#df-2edc5788-b5f7-4e0a-b6b0-57bd3f9f9c03 button');\n",
              "      quickchartButtonEl.style.display =\n",
              "        google.colab.kernel.accessAllowed ? 'block' : 'none';\n",
              "    })();\n",
              "  </script>\n",
              "</div>\n",
              "    </div>\n",
              "  </div>\n"
            ],
            "application/vnd.google.colaboratory.intrinsic+json": {
              "type": "dataframe",
              "summary": "{\n  \"name\": \"df1\",\n  \"rows\": 6,\n  \"fields\": [\n    {\n      \"column\": \"feature_1\",\n      \"properties\": {\n        \"dtype\": \"number\",\n        \"std\": 0.6407079675352284,\n        \"min\": -0.6624523708024007,\n        \"max\": 1.0,\n        \"num_unique_values\": 5,\n        \"samples\": [\n          0.08852525626492622,\n          -0.6624523708024007,\n          0.9857683270074867\n        ],\n        \"semantic_type\": \"\",\n        \"description\": \"\"\n      }\n    },\n    {\n      \"column\": \"feature_2\",\n      \"properties\": {\n        \"dtype\": \"number\",\n        \"std\": 0.48208633895700614,\n        \"min\": -0.01793049460672682,\n        \"max\": 1.0,\n        \"num_unique_values\": 5,\n        \"samples\": [\n          1.0,\n          0.012852305737809685,\n          0.2547148889020479\n        ],\n        \"semantic_type\": \"\",\n        \"description\": \"\"\n      }\n    },\n    {\n      \"column\": \"feature_3\",\n      \"properties\": {\n        \"dtype\": \"number\",\n        \"std\": 0.48208633895700614,\n        \"min\": -0.01793049460672682,\n        \"max\": 1.0,\n        \"num_unique_values\": 5,\n        \"samples\": [\n          1.0,\n          0.012852305737809685,\n          0.2547148889020479\n        ],\n        \"semantic_type\": \"\",\n        \"description\": \"\"\n      }\n    },\n    {\n      \"column\": \"feature_4\",\n      \"properties\": {\n        \"dtype\": \"number\",\n        \"std\": 0.6233674201310465,\n        \"min\": -0.6409580220572925,\n        \"max\": 1.0,\n        \"num_unique_values\": 5,\n        \"samples\": [\n          0.2547148889020479,\n          -0.6409580220572925,\n          1.0\n        ],\n        \"semantic_type\": \"\",\n        \"description\": \"\"\n      }\n    },\n    {\n      \"column\": \"feature_5\",\n      \"properties\": {\n        \"dtype\": \"number\",\n        \"std\": 0.411644883608675,\n        \"min\": -0.01793049460672682,\n        \"max\": 1.0,\n        \"num_unique_values\": 5,\n        \"samples\": [\n          -0.01793049460672682,\n          0.004132754555745509,\n          -0.005848512992819543\n        ],\n        \"semantic_type\": \"\",\n        \"description\": \"\"\n      }\n    },\n    {\n      \"column\": \"target\",\n      \"properties\": {\n        \"dtype\": \"number\",\n        \"std\": 0.6062250527055262,\n        \"min\": -0.6624523708024007,\n        \"max\": 1.0,\n        \"num_unique_values\": 5,\n        \"samples\": [\n          0.012852305737809685,\n          1.0,\n          -0.6409580220572925\n        ],\n        \"semantic_type\": \"\",\n        \"description\": \"\"\n      }\n    }\n  ]\n}"
            }
          },
          "metadata": {},
          "execution_count": 127
        }
      ]
    },
    {
      "cell_type": "code",
      "source": [
        "import matplotlib.pyplot as plt\n",
        "import seaborn as sns\n",
        "\n",
        "df1_copy = df1.drop(columns='target', axis=1).copy()\n",
        "corr = df1_copy.corr()\n",
        "\n",
        "\n",
        "plt.figure(figsize=(10, 8))\n",
        "sns.heatmap(corr, annot=True, fmt=\".2f\", cmap='coolwarm', cbar=True, square=True)\n",
        "plt.title('Correlation Matrix Heatmap')\n",
        "plt.show()"
      ],
      "metadata": {
        "colab": {
          "base_uri": "https://localhost:8080/",
          "height": 699
        },
        "id": "-Z27U_eTQeQ9",
        "outputId": "17b74c0f-f28c-4522-d4ad-230e367e2796"
      },
      "execution_count": null,
      "outputs": [
        {
          "output_type": "display_data",
          "data": {
            "text/plain": [
              "<Figure size 1000x800 with 2 Axes>"
            ],
            "image/png": "[encoded data removed]"
          },
          "metadata": {}
        }
      ]
    },
    {
      "cell_type": "markdown",
      "source": [
        "Vou remover a feature 3 pois é igual à feature 2 e a feature 4 pois é altamente correlacionada com a feature 1 (0.99)."
      ],
      "metadata": {
        "id": "HewoHM_HSga7"
      }
    },
    {
      "cell_type": "code",
      "source": [
        "df1_copy = df1_copy.drop(columns=['feature_3', 'feature_4'] , axis=1).copy()\n",
        "corr = df1_copy.corr()\n",
        "\n",
        "plt.figure(figsize=(10, 8))\n",
        "sns.heatmap(corr, annot=True, fmt=\".2f\", cmap='coolwarm', cbar=True, square=True)\n",
        "plt.title('Correlation Matrix Heatmap')\n",
        "plt.show()\n"
      ],
      "metadata": {
        "colab": {
          "base_uri": "https://localhost:8080/",
          "height": 699
        },
        "id": "M8uJDtyvSgAJ",
        "outputId": "d3374fd5-6855-415c-ca59-de4e359f88c9"
      },
      "execution_count": null,
      "outputs": [
        {
          "output_type": "display_data",
          "data": {
            "text/plain": [
              "<Figure size 1000x800 with 2 Axes>"
            ],
            "image/png": "[encoded data removed]"
          },
          "metadata": {}
        }
      ]
    },
    {
      "cell_type": "markdown",
      "source": [
        "# df2 e df3\n",
        "Nao deu pra plotar os heatmaps pois sao muitas features, entao utilizei uma regra para dropar colunas altamente correlacionadas."
      ],
      "metadata": {
        "id": "eur1UUB5UC_S"
      }
    },
    {
      "cell_type": "code",
      "source": [
        "df2_copy = df2.drop(columns='target', axis=1).copy()\n",
        "corr = df2_copy.corr()\n",
        "\n",
        "high_corr = (corr.abs() > 0.8) & (corr != 1.0)\n",
        "\n",
        "to_drop = set()\n",
        "\n",
        "\n",
        "for i in range(len(high_corr)):\n",
        "    for j in range(i+1, len(high_corr)):\n",
        "        if high_corr.iloc[i, j]:\n",
        "            to_drop.add(high_corr.columns[j])\n",
        "\n",
        "\n",
        "to_drop = list(to_drop)\n",
        "df_reduced = df2_copy.drop(columns=to_drop)\n",
        "print(f'Total features before removing: {len(df2_copy.columns)}')\n",
        "print(f'Total features after removing: {len(df_reduced.columns)}')"
      ],
      "metadata": {
        "colab": {
          "base_uri": "https://localhost:8080/"
        },
        "id": "IucBc_nIUCUR",
        "outputId": "fa52dbf7-f297-4ba7-c426-a007a6216a1d"
      },
      "execution_count": null,
      "outputs": [
        {
          "output_type": "stream",
          "name": "stdout",
          "text": [
            "Total features before removing: 50\n",
            "Total features after removing: 21\n"
          ]
        }
      ]
    },
    {
      "cell_type": "code",
      "source": [
        "df3_copy = df3.drop(columns='target', axis=1).copy()\n",
        "corr = df3_copy.corr()\n",
        "\n",
        "to_drop = set()\n",
        "\n",
        "high_corr = (corr.abs() > 0.8) & (corr != 1.0)\n",
        "\n",
        "for i in range(len(high_corr)):\n",
        "    for j in range(i+1, len(high_corr)):\n",
        "        if high_corr.iloc[i, j]:\n",
        "            to_drop.add(high_corr.columns[j])\n",
        "\n",
        "\n",
        "to_drop = list(to_drop)\n",
        "df_reduced = df3_copy.drop(columns=to_drop)\n",
        "print(f'Total features before removing: {len(df3_copy.columns)}')\n",
        "print(f'Total features after removing: {len(df_reduced.columns)}')"
      ],
      "metadata": {
        "colab": {
          "base_uri": "https://localhost:8080/"
        },
        "id": "4wLkjGibYWTZ",
        "outputId": "474e3a4d-84b9-4eee-9ba2-5baa9d8c6567"
      },
      "execution_count": null,
      "outputs": [
        {
          "output_type": "stream",
          "name": "stdout",
          "text": [
            "Total features before removing: 100\n",
            "Total features after removing: 90\n"
          ]
        }
      ]
    },
    {
      "cell_type": "markdown",
      "source": [
        "## Select From Model\n",
        "Documentation: https://scikit-learn.org/stable/modules/feature_selection.html#select-from-model\n",
        "Reference guide: https://scikit-learn.org/stable/modules/generated/sklearn.feature_selection.SelectFromModel.html\n",
        "Source: https://github.com/scikit-learn/scikit-learn/blob/872124551/sklearn/feature_selection/_from_model.py#L93\n"
      ],
      "metadata": {
        "id": "3x4UVSf_qUHI"
      }
    },
    {
      "cell_type": "code",
      "source": [
        "X_1 = df1.drop('target', axis=1)\n",
        "y_1 = df1['target']\n",
        "\n",
        "X_2 = df2.drop('target', axis=1)\n",
        "y_2 = df2['target']\n",
        "\n",
        "X_3 = df3.drop('target', axis=1)\n",
        "y_3 = df3['target']"
      ],
      "metadata": {
        "id": "D_NdjzUMciAv"
      },
      "execution_count": null,
      "outputs": []
    },
    {
      "cell_type": "code",
      "source": [
        "from sklearn.model_selection import train_test_split\n",
        "\n",
        "X_1_train, X_1_test, y_1_train, y_1_test = train_test_split(X_1, y_1, test_size=0.25, random_state=42)\n",
        "X_2_train, X_2_test, y_2_train, y_2_test = train_test_split(X_2, y_2, test_size=0.25, random_state=42)\n",
        "X_3_train, X_3_test, y_3_train, y_3_test = train_test_split(X_3, y_3, test_size=0.25, random_state=42)\n",
        "\n",
        "x_train_array = [X_1_train, X_2_train, X_3_train]\n",
        "y_train_array = [y_1_train, y_2_train, y_3_train]\n",
        "x_test_array = [X_1_test, X_2_test, X_3_test]\n",
        "y_test_array = [y_1_test, y_2_test, y_3_test]"
      ],
      "metadata": {
        "id": "bvdPqKqCcxhS"
      },
      "execution_count": null,
      "outputs": []
    },
    {
      "cell_type": "code",
      "source": [
        "from sklearn.ensemble import RandomForestClassifier\n",
        "from sklearn.feature_selection import SelectFromModel\n",
        "\n",
        "for i, (X_train, X_test, y_train, y_test) in enumerate(zip(x_train_array, x_test_array, y_train_array, y_test_array), 1):\n",
        "    clf = RandomForestClassifier(n_estimators=100, random_state=42)\n",
        "    clf_t = RandomForestClassifier(n_estimators=100, random_state=42)\n",
        "\n",
        "    clf.fit(X_train.values, y_train)\n",
        "    acc_all_features = (clf.predict(X_test.values) == y_test).sum() / y_test.size\n",
        "\n",
        "    sfm = SelectFromModel(clf, prefit=True)\n",
        "    X_train_transformed = sfm.transform(X_train.values)\n",
        "    X_test_transformed = sfm.transform(X_test.values)\n",
        "\n",
        "    clf_t.fit(X_train_transformed, y_train)\n",
        "    acc_selected_features = (clf_t.predict(X_test_transformed) == y_test).sum() / y_test.size\n",
        "\n",
        "    print(f\"dataset {i}\")\n",
        "    print(f\"total features: {X_train.shape[1]}\")\n",
        "    print(f\"selected features: {X_train.shape[1] - sfm.get_support().sum()}\")\n",
        "    print(f\"accuracy with all features: {acc_all_features}\")\n",
        "    print(f\"accuracy with selected features: {acc_selected_features}\\n\")\n"
      ],
      "metadata": {
        "id": "3CGMDBlAr5lC",
        "colab": {
          "base_uri": "https://localhost:8080/"
        },
        "outputId": "45da28fd-9f11-4fb1-87c8-c399732161f1"
      },
      "execution_count": null,
      "outputs": [
        {
          "output_type": "stream",
          "name": "stdout",
          "text": [
            "dataset 1\n",
            "total features: 5\n",
            "selected features: 3\n",
            "accuracy with all features: 0.77\n",
            "accuracy with selected features: 0.765\n",
            "\n",
            "dataset 2\n",
            "total features: 50\n",
            "selected features: 36\n",
            "accuracy with all features: 0.9725\n",
            "accuracy with selected features: 0.96\n",
            "\n",
            "dataset 3\n",
            "total features: 100\n",
            "selected features: 68\n",
            "accuracy with all features: 0.98\n",
            "accuracy with selected features: 0.9775\n",
            "\n"
          ]
        }
      ]
    },
    {
      "cell_type": "markdown",
      "source": [
        "# Recursive Feature Elimination\n",
        "## Documentation: https://scikit-learn.org/stable/modules/feature_selection.html#rfe\n",
        "## Reference guide: https://scikit-learn.org/stable/modules/generated/sklearn.feature_selection.RFE.html\n",
        "## Source: https://github.com/scikit-learn/scikit-learn/blob/872124551/sklearn/feature_selection/_rfe.py#L68"
      ],
      "metadata": {
        "id": "VrM8VEz9qnHE"
      }
    },
    {
      "cell_type": "code",
      "source": [
        "from sklearn.feature_selection import RFE\n",
        "\n",
        "# documentation: https://scikit-learn.org/stable/modules/generated/sklearn.feature_selection.RFE.html\n",
        "# source: https://github.com/scikit-learn/scikit-learn/blob/872124551/sklearn/feature_selection/_rfe.py#L68\n",
        "\n",
        "n_features_to_select = [\n",
        "    round(len(df1_copy.columns) * 0.75),\n",
        "    round(len(df2_copy.columns) * 0.75),\n",
        "    round(len(df3_copy.columns) * 0.75)\n",
        "]\n",
        "\n",
        "for i, (X_train, X_test, y_train, y_test, n_select) in enumerate(zip(x_train_array, x_test_array, y_train_array, y_test_array, n_features_to_select), 1):\n",
        "    clf = RandomForestClassifier(n_estimators=100, random_state=42)\n",
        "\n",
        "    clf.fit(X_train, y_train)\n",
        "    acc_all_features = (clf.predict(X_test) == y_test).sum() / y_test.size\n",
        "\n",
        "    rfe = RFE(estimator=clf, n_features_to_select=n_select, step=1)\n",
        "    rfe.fit(X_train, y_train)\n",
        "    X_train_transformed = rfe.transform(X_train)\n",
        "    X_test_transformed = rfe.transform(X_test)\n",
        "\n",
        "    clf.fit(X_train_transformed, y_train)\n",
        "    acc_selected_features = (clf.predict(X_test_transformed) == y_test).sum() / y_test.size\n",
        "\n",
        "    print(f\"dataset {i}\")\n",
        "    print(f\"total features: {X_train.shape[1]}\")\n",
        "    print(f\"selected features: {n_select}\")\n",
        "    print(f\"accuracy with all features: {acc_all_features}\")\n",
        "    print(f\"accuracy with selected features: {acc_selected_features}\\n\")"
      ],
      "metadata": {
        "id": "Y035HDl-uRGg",
        "colab": {
          "base_uri": "https://localhost:8080/"
        },
        "outputId": "4f26cc1d-4e10-4139-a554-65d04e6e48f3"
      },
      "execution_count": null,
      "outputs": [
        {
          "output_type": "stream",
          "name": "stdout",
          "text": [
            "dataset 1\n",
            "total features: 5\n",
            "selected features: 2\n",
            "accuracy with all features: 0.77\n",
            "accuracy with selected features: 0.765\n",
            "\n",
            "dataset 2\n",
            "total features: 50\n",
            "selected features: 38\n",
            "accuracy with all features: 0.9725\n",
            "accuracy with selected features: 0.97\n",
            "\n",
            "dataset 3\n",
            "total features: 100\n",
            "selected features: 75\n",
            "accuracy with all features: 0.98\n",
            "accuracy with selected features: 0.9725\n",
            "\n"
          ]
        }
      ]
    },
    {
      "cell_type": "markdown",
      "source": [
        "# Sequential Feature Selection\n",
        "\n",
        "## documentation: https://scikit-learn.org/stable/modules/feature_selection.html#sequential-feature-selection\n",
        "## reference guide: https://scikit-learn.org/stable/modules/generated/sklearn.feature_selection.SequentialFeatureSelector.html\n",
        "## source: https://github.com/scikit-learn/scikit-learn/blob/872124551/sklearn/feature_selection/_sequential.py#L18"
      ],
      "metadata": {
        "id": "08vr6kzfrIJC"
      }
    },
    {
      "cell_type": "code",
      "source": [
        "from sklearn.feature_selection import SequentialFeatureSelector as SFS\n",
        "\n",
        "for i, (X_train, X_test, y_train, y_test, n_select) in enumerate(zip(x_train_array, x_test_array, y_train_array, y_test_array, n_features_to_select), 1):\n",
        "    clf = RandomForestClassifier(n_estimators=100, random_state=42)\n",
        "\n",
        "    clf.fit(X_train, y_train)\n",
        "    acc_all_features = clf.score(X_test, y_test)\n",
        "\n",
        "    sfs = SFS(clf, n_features_to_select=n_select, direction='forward')\n",
        "    sfs.fit(X_train, y_train)\n",
        "\n",
        "    X_train_transformed = sfs.transform(X_train)\n",
        "    X_test_transformed = sfs.transform(X_test)\n",
        "\n",
        "    clf.fit(X_train_transformed, y_train)\n",
        "    acc_selected_features = clf.score(X_test_transformed, y_test)\n",
        "\n",
        "    print(f\"dataset {i}\")\n",
        "    print(f\"total features: {X_train.shape[1]}\")\n",
        "    print(f\"selected features: {n_select}\")\n",
        "    print(f\"accuracy with all features: {acc_all_features}\")\n",
        "    print(f\"accuracy with selected features: {acc_selected_features}\\n\")"
      ],
      "metadata": {
        "id": "ZtWNtZFhR7LX",
        "colab": {
          "base_uri": "https://localhost:8080/"
        },
        "outputId": "20b0156b-effd-4c15-9c0f-615829b6a7f1"
      },
      "execution_count": null,
      "outputs": [
        {
          "metadata": {
            "tags": null
          },
          "name": "stdout",
          "output_type": "stream",
          "text": [
            "dataset 1\n",
            "total features: 5\n",
            "selected features: 2\n",
            "accuracy with all features: 0.77\n",
            "accuracy with selected features: 0.7675\n",
            "\n",
            "dataset 2\n",
            "total features: 50\n",
            "selected features: 38\n",
            "accuracy with all features: 0.9725\n",
            "accuracy with selected features: 0.965\n",
            "\n"
          ]
        }
      ]
    }
  ]
}